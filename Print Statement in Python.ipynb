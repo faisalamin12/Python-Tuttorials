{
 "cells": [
  {
   "cell_type": "markdown",
   "metadata": {},
   "source": [
    "# Print Statement in Python"
   ]
  },
  {
   "cell_type": "markdown",
   "metadata": {},
   "source": [
    "`\n",
    "Print Staement:`"
   ]
  },
  {
   "cell_type": "markdown",
   "metadata": {},
   "source": [
    "Print Statement is a function that simply prints a line in the output"
   ]
  },
  {
   "cell_type": "code",
   "execution_count": 3,
   "metadata": {},
   "outputs": [
    {
     "name": "stdout",
     "output_type": "stream",
     "text": [
      "Hello World!\n"
     ]
    }
   ],
   "source": [
    "print(\"Hello World!\")"
   ]
  },
  {
   "cell_type": "markdown",
   "metadata": {},
   "source": [
    "**Note that it simply prints the Hello world Line in the output**"
   ]
  },
  {
   "cell_type": "markdown",
   "metadata": {},
   "source": [
    "`String:`"
   ]
  },
  {
   "cell_type": "markdown",
   "metadata": {},
   "source": [
    "String is a group of charactors and it is hanged up in double quotation like this:\n",
    "    \n",
    "**\"Hello world\"**\n",
    "\n",
    "\n",
    "Hello world is a string it is a group of charactors that is in qoutation marks"
   ]
  },
  {
   "cell_type": "markdown",
   "metadata": {},
   "source": [
    "# Code of print Statement"
   ]
  },
  {
   "cell_type": "code",
   "execution_count": 5,
   "metadata": {},
   "outputs": [
    {
     "name": "stdout",
     "output_type": "stream",
     "text": [
      "My first program\n"
     ]
    }
   ],
   "source": [
    "print(\"My first program\")"
   ]
  },
  {
   "cell_type": "code",
   "execution_count": 6,
   "metadata": {},
   "outputs": [
    {
     "name": "stdout",
     "output_type": "stream",
     "text": [
      "2nd print statement\n"
     ]
    }
   ],
   "source": [
    "print(\"2nd print statement\")"
   ]
  },
  {
   "cell_type": "code",
   "execution_count": 7,
   "metadata": {},
   "outputs": [
    {
     "name": "stdout",
     "output_type": "stream",
     "text": [
      "1st Statement\n",
      "2nd Statement\n"
     ]
    }
   ],
   "source": [
    "print(\"1st Statement\")\n",
    "print(\"2nd Statement\")"
   ]
  },
  {
   "cell_type": "markdown",
   "metadata": {},
   "source": [
    "**Note that** it displays every print statement in new line\n",
    "\n",
    "the reason behind that is **\"end\"** attribute"
   ]
  },
  {
   "cell_type": "markdown",
   "metadata": {},
   "source": [
    "# end attribute in print statement"
   ]
  },
  {
   "cell_type": "code",
   "execution_count": 9,
   "metadata": {},
   "outputs": [
    {
     "name": "stdout",
     "output_type": "stream",
     "text": [
      "Hello world 1! Hello world 2!\n"
     ]
    }
   ],
   "source": [
    "print(\"Hello world 1!\",end = \" \")\n",
    "print(\"Hello world 2!\")"
   ]
  },
  {
   "cell_type": "markdown",
   "metadata": {},
   "source": [
    "Note that in this time it doesnot start 2nd print statement in a new line because end attribute shows a space \n",
    "The default value of end attribute is \\n (new line) if we doesnot specify end attribute in print statement it goes with default value (\\n)"
   ]
  },
  {
   "cell_type": "code",
   "execution_count": 11,
   "metadata": {},
   "outputs": [
    {
     "name": "stdout",
     "output_type": "stream",
     "text": [
      "1st statement2nd statement\n"
     ]
    }
   ],
   "source": [
    "print(\"1st statement\",end=\"\") #print statement`s end attribute with empty qoutes thats why it doesnot omit any space between these two statement\n",
    "print(\"2nd statement\")\n"
   ]
  },
  {
   "cell_type": "code",
   "execution_count": 12,
   "metadata": {},
   "outputs": [
    {
     "name": "stdout",
     "output_type": "stream",
     "text": [
      "1st statement\t2nd statement\n"
     ]
    }
   ],
   "source": [
    "print(\"1st statement\",end=\"\\t\") #print statement`s end attribute with \\t(tab charactor)  thats why it omit some space between these two statement\n",
    "print(\"2nd statement\")"
   ]
  },
  {
   "cell_type": "code",
   "execution_count": null,
   "metadata": {},
   "outputs": [],
   "source": []
  }
 ],
 "metadata": {
  "kernelspec": {
   "display_name": "Python 3",
   "language": "python",
   "name": "python3"
  },
  "language_info": {
   "codemirror_mode": {
    "name": "ipython",
    "version": 3
   },
   "file_extension": ".py",
   "mimetype": "text/x-python",
   "name": "python",
   "nbconvert_exporter": "python",
   "pygments_lexer": "ipython3",
   "version": "3.7.3"
  }
 },
 "nbformat": 4,
 "nbformat_minor": 2
}
